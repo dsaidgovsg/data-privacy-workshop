{
 "cells": [
  {
   "cell_type": "markdown",
   "id": "c0ac3807",
   "metadata": {},
   "source": [
    "## Field Level Encryption - Example using Symmetric Key Encryption"
   ]
  },
  {
   "cell_type": "code",
   "execution_count": 1,
   "id": "4d8e1044",
   "metadata": {},
   "outputs": [],
   "source": [
    "import pandas as pd\n",
    "import requests\n",
    "import io\n",
    "\n",
    "from Crypto.Cipher import AES\n",
    "from Crypto.Hash import MD5\n",
    "from typing import Tuple"
   ]
  },
  {
   "cell_type": "markdown",
   "id": "30888f19",
   "metadata": {},
   "source": [
    "#### Functions to encrypt and decrypt"
   ]
  },
  {
   "cell_type": "code",
   "execution_count": 5,
   "id": "b8f51cfe",
   "metadata": {},
   "outputs": [],
   "source": [
    "def aes_encrypt(value:bin, key:bin)-> Tuple[bin,bin]:\n",
    "    \"\"\"\n",
    "    Function to perform AES encryption using SIV mode\n",
    "    Args:\n",
    "        value: plaintext value to be encrypted (aka. secret message)\n",
    "        key: encryption key used to perform encryption (aka. secret key)\n",
    "    \n",
    "    Return:\n",
    "        ciphertext and digest in binary data type\n",
    "    \"\"\"\n",
    "    \n",
    "    # convert key to MD5 as SIV mode requires a minimum 32 byte key\n",
    "    hash_key = MD5.new(key).hexdigest().encode('ascii')\n",
    "    \n",
    "    # generates a new AES key\n",
    "    cipher = AES.new(hash_key, AES.MODE_SIV)\n",
    "    \n",
    "    ciphertext, digest = cipher.encrypt_and_digest(value)\n",
    "    \n",
    "    return ciphertext, digest\n",
    "\n",
    "\n",
    "def aes_decrypt(ciphertext:bin, digest:bin, key:bin) -> bin:\n",
    "    \"\"\"\n",
    "    Function to perform AES decrhyption using SIV mode\n",
    "    \n",
    "    Args:\n",
    "        ciphertext: ciphertext to be decrypted\n",
    "        digest: digest produced from encryption\n",
    "        key: encryption used to perform decryption\n",
    "    \n",
    "    Return:\n",
    "        ciphertext and digest in binary type\n",
    "    \"\"\"\n",
    "    \n",
    "    # convert key to MD5 as SIV mode requires a minimun 32 byte key\n",
    "    hash_key = MD5.new(key).hexdigest().encode('ascii')\n",
    "    \n",
    "    # generate a new AES key\n",
    "    cipher = AES.new(hash_key, AES.MODE_SIV)\n",
    "    \n",
    "    return cipher.decrypt_and_verify(ciphertext, digest)\n",
    "\n",
    "\n",
    "def decrypt_and_check_integrity(ciphertext_1, digest_1, secret_key):\n",
    "    try:\n",
    "        print('The secret message is: ', aes_decrypt(ciphertext_1, digest_1, secret_key))\n",
    "    except ValueError:\n",
    "        print('The message has been tampered with!')\n",
    "        \n",
    "    return"
   ]
  },
  {
   "cell_type": "markdown",
   "id": "71e860f3",
   "metadata": {},
   "source": [
    "#### Perform encryption on a simple message"
   ]
  },
  {
   "cell_type": "code",
   "execution_count": 6,
   "id": "4de8e3a7",
   "metadata": {},
   "outputs": [],
   "source": [
    "secret_key = b'a secret key'\n",
    "message = b'a random secret message'\n",
    "\n",
    "ciphertext_1, digest_1 = aes_encrypt(message, secret_key)"
   ]
  },
  {
   "cell_type": "markdown",
   "id": "b89c572b",
   "metadata": {},
   "source": [
    "#### Try to decrypt the ciphertext"
   ]
  },
  {
   "cell_type": "code",
   "execution_count": 7,
   "id": "35ee0773",
   "metadata": {},
   "outputs": [
    {
     "name": "stdout",
     "output_type": "stream",
     "text": [
      "The secret message is:  b'a random secret message'\n"
     ]
    }
   ],
   "source": [
    "decrypt_and_check_integrity(ciphertext_1, digest_1, secret_key)"
   ]
  },
  {
   "cell_type": "markdown",
   "id": "063e8f85",
   "metadata": {},
   "source": [
    "#### If the ciphertext has been tampered with"
   ]
  },
  {
   "cell_type": "code",
   "execution_count": 8,
   "id": "91b94103",
   "metadata": {},
   "outputs": [
    {
     "name": "stdout",
     "output_type": "stream",
     "text": [
      "The message has been tampered with!\n"
     ]
    }
   ],
   "source": [
    "tampered_ciphertext = b'\\x17V\\xce\\x1f\\xd9\\x9c\\xbeE\\xee$\\xe7g\\x811\\x1f\\xe5\\xba\\xf8\\xf2\\x11\\x85\\x1b\\x86'\n",
    "decrypt_and_check_integrity(tampered_ciphertext, digest_1, secret_key)"
   ]
  },
  {
   "cell_type": "markdown",
   "id": "968d602c",
   "metadata": {},
   "source": [
    "## Exercise\n",
    "\n",
    "#### Get data from data.gov.sg\n",
    "\n",
    "Note: to perform the download, you need to unrestrict the download rate limit for jupyter notebook by re-opening it with command:\n",
    "\n",
    "``` \n",
    "jupyter notebook --NotebookApp.iopub_data_rate_limit=1.0e10 \n",
    "```"
   ]
  },
  {
   "cell_type": "code",
   "execution_count": 9,
   "id": "d7f35ac4",
   "metadata": {},
   "outputs": [
    {
     "name": "stdout",
     "output_type": "stream",
     "text": [
      "Data set URL:\n",
      "https://storage.data.gov.sg/acra-information-on-corporate-entities/resources/acra-information-on-corporate-entities-x-2021-12-13T02-37-28Z.csv\n"
     ]
    },
    {
     "data": {
      "text/html": [
       "<div>\n",
       "<style scoped>\n",
       "    .dataframe tbody tr th:only-of-type {\n",
       "        vertical-align: middle;\n",
       "    }\n",
       "\n",
       "    .dataframe tbody tr th {\n",
       "        vertical-align: top;\n",
       "    }\n",
       "\n",
       "    .dataframe thead th {\n",
       "        text-align: right;\n",
       "    }\n",
       "</style>\n",
       "<table border=\"1\" class=\"dataframe\">\n",
       "  <thead>\n",
       "    <tr style=\"text-align: right;\">\n",
       "      <th></th>\n",
       "      <th>business_constitution_description</th>\n",
       "      <th>primary_ssic_description</th>\n",
       "      <th>primary_user_described_activity</th>\n",
       "      <th>street_name</th>\n",
       "      <th>entity_status_description</th>\n",
       "      <th>annual_return_date</th>\n",
       "      <th>postal_code</th>\n",
       "      <th>paid_up_capital10_preference</th>\n",
       "      <th>entity_name</th>\n",
       "      <th>paid_up_capital2_others</th>\n",
       "      <th>...</th>\n",
       "      <th>paid_up_capital10_ordinary</th>\n",
       "      <th>paid_up_capital10_others</th>\n",
       "      <th>uen_of_audit_firm4</th>\n",
       "      <th>paid_up_capital7_others</th>\n",
       "      <th>uen_of_audit_firm5</th>\n",
       "      <th>entity_type_description</th>\n",
       "      <th>paid_up_capital3_ordinary</th>\n",
       "      <th>paid_up_capital5_ordinary</th>\n",
       "      <th>paid_up_capital9_preference</th>\n",
       "      <th>paid_up_capital1_ordinary</th>\n",
       "    </tr>\n",
       "  </thead>\n",
       "  <tbody>\n",
       "    <tr>\n",
       "      <th>0</th>\n",
       "      <td>Sole Proprietor</td>\n",
       "      <td>PUBS</td>\n",
       "      <td>na</td>\n",
       "      <td>CIRCULAR ROAD</td>\n",
       "      <td>Cancelled</td>\n",
       "      <td>na</td>\n",
       "      <td>049392</td>\n",
       "      <td>na</td>\n",
       "      <td>X</td>\n",
       "      <td>na</td>\n",
       "      <td>...</td>\n",
       "      <td>na</td>\n",
       "      <td>na</td>\n",
       "      <td>na</td>\n",
       "      <td>na</td>\n",
       "      <td>na</td>\n",
       "      <td>Business</td>\n",
       "      <td>na</td>\n",
       "      <td>na</td>\n",
       "      <td>na</td>\n",
       "      <td>na</td>\n",
       "    </tr>\n",
       "    <tr>\n",
       "      <th>1</th>\n",
       "      <td>Partnership</td>\n",
       "      <td>WHOLESALE TRADE OF A VARIETY OF GOODS WITHOUT ...</td>\n",
       "      <td>na</td>\n",
       "      <td>SENJA ROAD</td>\n",
       "      <td>na</td>\n",
       "      <td>na</td>\n",
       "      <td>670616</td>\n",
       "      <td>na</td>\n",
       "      <td>X &amp; B TRADING</td>\n",
       "      <td>na</td>\n",
       "      <td>...</td>\n",
       "      <td>na</td>\n",
       "      <td>na</td>\n",
       "      <td>na</td>\n",
       "      <td>na</td>\n",
       "      <td>na</td>\n",
       "      <td>Business</td>\n",
       "      <td>na</td>\n",
       "      <td>na</td>\n",
       "      <td>na</td>\n",
       "      <td>na</td>\n",
       "    </tr>\n",
       "    <tr>\n",
       "      <th>2</th>\n",
       "      <td>na</td>\n",
       "      <td>CAFES AND COFFEE HOUSES</td>\n",
       "      <td>SNACKS AND BEVERAGE KIOSK OR SHOP</td>\n",
       "      <td>ROBINSON ROAD</td>\n",
       "      <td>Struck Off</td>\n",
       "      <td>2013-09-25T18:54:24</td>\n",
       "      <td>048545</td>\n",
       "      <td>na</td>\n",
       "      <td>X &amp; E PASSION PTE. LTD.</td>\n",
       "      <td>na</td>\n",
       "      <td>...</td>\n",
       "      <td>na</td>\n",
       "      <td>na</td>\n",
       "      <td>na</td>\n",
       "      <td>na</td>\n",
       "      <td>na</td>\n",
       "      <td>Local Company</td>\n",
       "      <td>na</td>\n",
       "      <td>na</td>\n",
       "      <td>na</td>\n",
       "      <td>100000</td>\n",
       "    </tr>\n",
       "    <tr>\n",
       "      <th>3</th>\n",
       "      <td>Sole Proprietor</td>\n",
       "      <td>RENTAL AND LEASING OF CARS WITH DRIVER (EXCLUD...</td>\n",
       "      <td>na</td>\n",
       "      <td>CHOA CHU KANG CRESCENT</td>\n",
       "      <td>Cancelled (Non-Renewal)</td>\n",
       "      <td>na</td>\n",
       "      <td>682691</td>\n",
       "      <td>na</td>\n",
       "      <td>X &amp; F SERVICES</td>\n",
       "      <td>na</td>\n",
       "      <td>...</td>\n",
       "      <td>na</td>\n",
       "      <td>na</td>\n",
       "      <td>na</td>\n",
       "      <td>na</td>\n",
       "      <td>na</td>\n",
       "      <td>Business</td>\n",
       "      <td>na</td>\n",
       "      <td>na</td>\n",
       "      <td>na</td>\n",
       "      <td>na</td>\n",
       "    </tr>\n",
       "    <tr>\n",
       "      <th>4</th>\n",
       "      <td>na</td>\n",
       "      <td>OTHER HOLDING COMPANIES</td>\n",
       "      <td>INVESTMENT</td>\n",
       "      <td>CECIL STREET</td>\n",
       "      <td>Struck Off</td>\n",
       "      <td>na</td>\n",
       "      <td>049705</td>\n",
       "      <td>na</td>\n",
       "      <td>X &amp; H INTERNATIONAL PTE. LTD.</td>\n",
       "      <td>na</td>\n",
       "      <td>...</td>\n",
       "      <td>na</td>\n",
       "      <td>na</td>\n",
       "      <td>na</td>\n",
       "      <td>na</td>\n",
       "      <td>na</td>\n",
       "      <td>Local Company</td>\n",
       "      <td>na</td>\n",
       "      <td>na</td>\n",
       "      <td>na</td>\n",
       "      <td>1</td>\n",
       "    </tr>\n",
       "  </tbody>\n",
       "</table>\n",
       "<p>5 rows × 94 columns</p>\n",
       "</div>"
      ],
      "text/plain": [
       "  business_constitution_description  \\\n",
       "0                   Sole Proprietor   \n",
       "1                       Partnership   \n",
       "2                                na   \n",
       "3                   Sole Proprietor   \n",
       "4                                na   \n",
       "\n",
       "                            primary_ssic_description  \\\n",
       "0                                               PUBS   \n",
       "1  WHOLESALE TRADE OF A VARIETY OF GOODS WITHOUT ...   \n",
       "2                            CAFES AND COFFEE HOUSES   \n",
       "3  RENTAL AND LEASING OF CARS WITH DRIVER (EXCLUD...   \n",
       "4                            OTHER HOLDING COMPANIES   \n",
       "\n",
       "     primary_user_described_activity             street_name  \\\n",
       "0                                 na           CIRCULAR ROAD   \n",
       "1                                 na              SENJA ROAD   \n",
       "2  SNACKS AND BEVERAGE KIOSK OR SHOP           ROBINSON ROAD   \n",
       "3                                 na  CHOA CHU KANG CRESCENT   \n",
       "4                         INVESTMENT            CECIL STREET   \n",
       "\n",
       "  entity_status_description   annual_return_date postal_code  \\\n",
       "0                 Cancelled                   na      049392   \n",
       "1                        na                   na      670616   \n",
       "2                Struck Off  2013-09-25T18:54:24      048545   \n",
       "3   Cancelled (Non-Renewal)                   na      682691   \n",
       "4                Struck Off                   na      049705   \n",
       "\n",
       "  paid_up_capital10_preference                    entity_name  \\\n",
       "0                           na                              X   \n",
       "1                           na                  X & B TRADING   \n",
       "2                           na        X & E PASSION PTE. LTD.   \n",
       "3                           na                 X & F SERVICES   \n",
       "4                           na  X & H INTERNATIONAL PTE. LTD.   \n",
       "\n",
       "  paid_up_capital2_others  ... paid_up_capital10_ordinary  \\\n",
       "0                      na  ...                         na   \n",
       "1                      na  ...                         na   \n",
       "2                      na  ...                         na   \n",
       "3                      na  ...                         na   \n",
       "4                      na  ...                         na   \n",
       "\n",
       "  paid_up_capital10_others uen_of_audit_firm4 paid_up_capital7_others  \\\n",
       "0                       na                 na                      na   \n",
       "1                       na                 na                      na   \n",
       "2                       na                 na                      na   \n",
       "3                       na                 na                      na   \n",
       "4                       na                 na                      na   \n",
       "\n",
       "  uen_of_audit_firm5 entity_type_description paid_up_capital3_ordinary  \\\n",
       "0                 na                Business                        na   \n",
       "1                 na                Business                        na   \n",
       "2                 na           Local Company                        na   \n",
       "3                 na                Business                        na   \n",
       "4                 na           Local Company                        na   \n",
       "\n",
       "  paid_up_capital5_ordinary paid_up_capital9_preference  \\\n",
       "0                        na                          na   \n",
       "1                        na                          na   \n",
       "2                        na                          na   \n",
       "3                        na                          na   \n",
       "4                        na                          na   \n",
       "\n",
       "  paid_up_capital1_ordinary  \n",
       "0                        na  \n",
       "1                        na  \n",
       "2                    100000  \n",
       "3                        na  \n",
       "4                         1  \n",
       "\n",
       "[5 rows x 94 columns]"
      ]
     },
     "execution_count": 9,
     "metadata": {},
     "output_type": "execute_result"
    }
   ],
   "source": [
    "api_response = requests.get('https://data.gov.sg/api/action/package_show?id=acra-information-on-corporate-entities'\n",
    "                           ).json()\n",
    "resources = api_response['result']['resources']\n",
    "\n",
    "data_set_url = ''\n",
    "\n",
    "for resource in resources:\n",
    "    if resource['name'] == 'ACRA Information on Corporate Entities (\\'X\\')':\n",
    "        data_set_url = resource['url']\n",
    "        print('Data set URL:\\n{}'.format(data_set_url))\n",
    "        \n",
    "acra_csv_data = io.StringIO(requests.get(data_set_url).content.decode('utf-8'))\n",
    "\n",
    "acra_csv_df = pd.read_csv(acra_csv_data, dtype=str)\n",
    "\n",
    "acra_csv_df.head()"
   ]
  },
  {
   "cell_type": "markdown",
   "id": "a7d522ef",
   "metadata": {},
   "source": [
    "```\n",
    "1. Perform encryption on field 'entity_name'\n",
    "```"
   ]
  },
  {
   "cell_type": "code",
   "execution_count": 12,
   "id": "6b17960e",
   "metadata": {},
   "outputs": [
    {
     "data": {
      "text/plain": [
       "0    (b'\\xdf', b'KkA\\xaf\\xdb\\x88\\xf3\\ni\\xcc\\xda\\xf6...\n",
       "1    (b'\\x83O\\x18\\x82{\\x814\\xff\\x0cB\\x0f-\\x14', b'\\...\n",
       "2    (b'\\x82<5c\\x80\\x04\\xc3\\x92\\x83\\x06\\x02\\xd4\\xf1...\n",
       "3    (b'\\n=\\xec\\xc8a\\x01&3\\xe3m\\xa6hlP', b'\\x1fE.\\x...\n",
       "4    (b'$\\x84\\xe0\\x18\\xdey\\xd6.f\\xc7\\x12U\\xfa|\\xedh...\n",
       "Name: entity_name, dtype: object"
      ]
     },
     "execution_count": 12,
     "metadata": {},
     "output_type": "execute_result"
    }
   ],
   "source": [
    "######################\n",
    "####YOUR CODE HERE####\n",
    "######################\n",
    "\n",
    "encrypted_df['entity_name'].head()"
   ]
  },
  {
   "cell_type": "markdown",
   "id": "e7310329",
   "metadata": {},
   "source": [
    "```\n",
    "2. Perform decryption on field 'entity_name'\n",
    "```"
   ]
  },
  {
   "cell_type": "code",
   "execution_count": 11,
   "id": "1553a629",
   "metadata": {},
   "outputs": [
    {
     "data": {
      "text/plain": [
       "0                                X\n",
       "1                    X & B TRADING\n",
       "2          X & E PASSION PTE. LTD.\n",
       "3                   X & F SERVICES\n",
       "4    X & H INTERNATIONAL PTE. LTD.\n",
       "Name: entity_name, dtype: object"
      ]
     },
     "execution_count": 11,
     "metadata": {},
     "output_type": "execute_result"
    }
   ],
   "source": [
    "######################\n",
    "####YOUR CODE HERE####\n",
    "######################"
   ]
  },
  {
   "cell_type": "markdown",
   "id": "2e930e5f",
   "metadata": {},
   "source": [
    "## End of Exercise"
   ]
  }
 ],
 "metadata": {
  "kernelspec": {
   "display_name": "Python 3",
   "language": "python",
   "name": "python3"
  },
  "language_info": {
   "codemirror_mode": {
    "name": "ipython",
    "version": 3
   },
   "file_extension": ".py",
   "mimetype": "text/x-python",
   "name": "python",
   "nbconvert_exporter": "python",
   "pygments_lexer": "ipython3",
   "version": "3.8.8"
  }
 },
 "nbformat": 4,
 "nbformat_minor": 5
}

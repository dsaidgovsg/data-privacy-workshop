{
 "cells": [
  {
   "cell_type": "markdown",
   "id": "c93fce61",
   "metadata": {},
   "source": [
    "# Hashing\n",
    "\n",
    "- cryptographic package: https://www.pycryptodome.org/en/latest/src/hash/hash.html"
   ]
  },
  {
   "cell_type": "code",
   "execution_count": 1,
   "id": "bf07d419",
   "metadata": {},
   "outputs": [],
   "source": [
    "from Crypto.Hash import MD5"
   ]
  },
  {
   "cell_type": "code",
   "execution_count": 2,
   "id": "870f8af5",
   "metadata": {},
   "outputs": [
    {
     "data": {
      "text/plain": [
       "'5f4dcc3b5aa765d61d8327deb882cf99'"
      ]
     },
     "execution_count": 2,
     "metadata": {},
     "output_type": "execute_result"
    }
   ],
   "source": [
    "# MD5.new() only accepts binary values so by putting a 'b' in front of the string, it converts the string to binary\n",
    "easy_password_hash = MD5.new(b'password')\n",
    "easy_password_hash.hexdigest()"
   ]
  },
  {
   "cell_type": "markdown",
   "id": "d2535c7c",
   "metadata": {},
   "source": [
    "### Avalanche effect"
   ]
  },
  {
   "cell_type": "code",
   "execution_count": 3,
   "id": "19c7a965",
   "metadata": {
    "scrolled": true
   },
   "outputs": [
    {
     "name": "stdout",
     "output_type": "stream",
     "text": [
      "The MD5 hash of 'password' is 5f4dcc3b5aa765d61d8327deb882cf99\n",
      "The MD5 hash of 'passwore' is a826176c6495c5116189db91770e20ce\n",
      "The MD5 hash of 'password0' is 305e4f55ce823e111a46a9d500bcb86c\n",
      "The MD5 hash of 'password1' is 7c6a180b36896a0a8c02787eeafb0e4c\n",
      "The MD5 hash of 'password2' is 6cb75f652a9b52798eb6cf2201057c73\n",
      "The MD5 hash of 'password3' is 819b0643d6b89dc9b579fdfc9094f28e\n",
      "The MD5 hash of 'password4' is 34cc93ece0ba9e3f6f235d4af979b16c\n",
      "The MD5 hash of 'password5' is db0edd04aaac4506f7edab03ac855d56\n",
      "The MD5 hash of 'password6' is 218dd27aebeccecae69ad8408d9a36bf\n",
      "The MD5 hash of 'password7' is 00cdb7bb942cf6b290ceb97d6aca64a3\n",
      "The MD5 hash of 'password8' is b25ef06be3b6948c0bc431da46c2c738\n",
      "The MD5 hash of 'password9' is 5d69dd95ac183c9643780ed7027d128a\n"
     ]
    }
   ],
   "source": [
    "print('The MD5 hash of \\'{}\\' is {}'.format('password', MD5.new(b'password').hexdigest()))\n",
    "print('The MD5 hash of \\'{}\\' is {}'.format('passwore', MD5.new(b'passwore').hexdigest()))\n",
    "\n",
    "for i in range(10):\n",
    "    plaintext_password = 'password{}'.format(i)\n",
    "    print('The MD5 hash of \\'{}\\' is {}'.format(plaintext_password, MD5.new(plaintext_password.encode('ascii')).hexdigest()))"
   ]
  },
  {
   "cell_type": "markdown",
   "id": "4e634ee6",
   "metadata": {},
   "source": [
    "In cryptography, the avalanche effect is the desirable property of cryptographic algorithms wherein if an input is changed slightly (for example, flipping a single bit), the output changes significantly (e.g., half the output bits flip).\n",
    "\n",
    "This property provides the following benefits:\n",
    "- prevent people from making predictions about the input, being given only the output\n",
    "- makes it obvious that the data's integrity is affected even if it is only a 1 bit change.\n",
    "\n"
   ]
  },
  {
   "cell_type": "markdown",
   "id": "30cf6868",
   "metadata": {},
   "source": [
    "### Reverse lookup hashes\n",
    "Try searching for '5f4dcc3b5aa765d61d8327deb882cf99' in the internet. Are you able to find the original text from the hash?\n",
    "\n",
    "Rainbow table attacks makes use of precomputed hashes tables to quickly identify your password from hashes.\n",
    "\n",
    "To circumvent such attacks, add salt before hashing to significantly increase the size of the precomputed hash table needed to do reverse lookup of hashes. The longer the salt length, the larger the required precomputed hash table"
   ]
  },
  {
   "cell_type": "markdown",
   "id": "70d04f66",
   "metadata": {},
   "source": [
    "### Salt generation\n",
    "\n",
    "Salt are additional characters that are randomly generated and added to the back of the original string before hashing to make dictionary attacks harder to execute (as the dictionary of known passwords would have to be multiple times bigger than dictionaries for unsalted password)"
   ]
  },
  {
   "cell_type": "markdown",
   "id": "6992c284",
   "metadata": {},
   "source": [
    "## Exercise\n",
    "\n",
    "1. Write a function that returns a random string based on given character set and length, or if arguments were not provided, to use the following defaults\n",
    "\n",
    "```\n",
    "   char_set = \"0123456789abcdefghijklmnopqrstuvwxyzABCDEFGHIJKLMNOPQRSTUVWXYZ\"\n",
    "```"
   ]
  },
  {
   "cell_type": "code",
   "execution_count": 4,
   "id": "1db4ca1e",
   "metadata": {},
   "outputs": [],
   "source": [
    "import random\n",
    "\n",
    "def generate_salt(char_set: str = None, length: int = 16)-> str:\n",
    "    \"\"\"Generates a random string of alphanumeric characters as salt\n",
    "    \n",
    "    Args:\n",
    "        char_set: string containing the characters used for salt generation\n",
    "        length: the length of salt required\n",
    "    Return:\n",
    "        randomly generated salt based on char_set and length\n",
    "    \n",
    "    \"\"\"\n",
    "    ##################\n",
    "    # YOUR CODE HERE #\n",
    "    ##################\n",
    "    \n",
    "    if char_set is None:\n",
    "        char_set = \"0123456789abcdefghijklmnopqrstuvwxyzABCDEFGHIJKLMNOPQRSTUVWXYZ\" # fill in the default character set here\n",
    "    \n",
    "    chars=[]\n",
    "    for i in range(length):\n",
    "        chars.append(random.choice(char_set))\n",
    "\n",
    "    return \"\".join(chars)\n"
   ]
  },
  {
   "cell_type": "markdown",
   "id": "2af3c4a7",
   "metadata": {},
   "source": [
    "``` \n",
    "2. Generate and print the salt using the function above\n",
    "```"
   ]
  },
  {
   "cell_type": "code",
   "execution_count": 5,
   "id": "9d677be7",
   "metadata": {
    "scrolled": true
   },
   "outputs": [
    {
     "name": "stdout",
     "output_type": "stream",
     "text": [
      "VhEV1XOFu6UDzvcG\n"
     ]
    }
   ],
   "source": [
    "salt = generate_salt()\n",
    "print(salt)"
   ]
  },
  {
   "cell_type": "markdown",
   "id": "0658bebd",
   "metadata": {},
   "source": [
    "```\n",
    "3. Generate a salt that will contain only the letters \"ABCDEF\"\n",
    "```"
   ]
  },
  {
   "cell_type": "code",
   "execution_count": 6,
   "id": "7ef6cf1c",
   "metadata": {},
   "outputs": [
    {
     "name": "stdout",
     "output_type": "stream",
     "text": [
      "DECFACEFEBADFCBB\n"
     ]
    }
   ],
   "source": [
    "salt = generate_salt(\"ABCDEF\")\n",
    "print(salt)"
   ]
  },
  {
   "cell_type": "markdown",
   "id": "4f406c57",
   "metadata": {},
   "source": [
    "```\n",
    "4. Hash 'password123' using MD5 and retrieve the hexdigest()\n",
    "```"
   ]
  },
  {
   "cell_type": "code",
   "execution_count": 7,
   "id": "1ab7b563",
   "metadata": {},
   "outputs": [
    {
     "data": {
      "text/plain": [
       "'482c811da5d5b4bc6d497ffa98491e38'"
      ]
     },
     "execution_count": 7,
     "metadata": {},
     "output_type": "execute_result"
    }
   ],
   "source": [
    "hashed_data = MD5.new(b'password123')\n",
    "hashed_data.hexdigest()"
   ]
  },
  {
   "cell_type": "markdown",
   "id": "ea360e62",
   "metadata": {},
   "source": [
    "With the retrieved value from the hash, go to https://md5.gromweb.com/ and try to reverse the hash.\n",
    "\n",
    "Using the SALT that you have randomly generated, update the hashing to include the SALT."
   ]
  },
  {
   "cell_type": "code",
   "execution_count": 8,
   "id": "4475ad9e",
   "metadata": {},
   "outputs": [
    {
     "data": {
      "text/plain": [
       "'58ac22dfe729c40fa2414d212a3b8f65'"
      ]
     },
     "execution_count": 8,
     "metadata": {},
     "output_type": "execute_result"
    }
   ],
   "source": [
    "# append salt to the original easy password\n",
    "hashed_data.update(salt.encode('ascii'))\n",
    "hashed_data.hexdigest()"
   ]
  },
  {
   "cell_type": "markdown",
   "id": "704678c3",
   "metadata": {},
   "source": [
    "With the newly retrieved value from the hash, you can try to reverse the hash again at https://md5.gromweb.com/\n",
    "\n",
    "It is very likely that you cannot reverse the hash after applying SALT.\n",
    "\n",
    "```So remember to add SALT to your hashes!```"
   ]
  },
  {
   "cell_type": "markdown",
   "id": "39d55a1b",
   "metadata": {},
   "source": [
    "## End of Exercise"
   ]
  }
 ],
 "metadata": {
  "kernelspec": {
   "display_name": "Python 3",
   "language": "python",
   "name": "python3"
  },
  "language_info": {
   "codemirror_mode": {
    "name": "ipython",
    "version": 3
   },
   "file_extension": ".py",
   "mimetype": "text/x-python",
   "name": "python",
   "nbconvert_exporter": "python",
   "pygments_lexer": "ipython3",
   "version": "3.8.8"
  }
 },
 "nbformat": 4,
 "nbformat_minor": 5
}

{
 "cells": [
  {
   "cell_type": "markdown",
   "id": "0acf4953",
   "metadata": {},
   "source": [
    "# Data Privacy Technique - Hashing\n",
    "\n",
    "- cryptographic package: https://www.pycryptodome.org/en/latest/src/hash/hash.html\n",
    "- reverse lookup MD5 hash: https://md5.gromweb.com/"
   ]
  },
  {
   "cell_type": "code",
   "execution_count": 3,
   "id": "ea178f3a",
   "metadata": {},
   "outputs": [],
   "source": [
    "from Crypto.Hash import MD5"
   ]
  },
  {
   "cell_type": "code",
   "execution_count": 9,
   "id": "d46f5a9c",
   "metadata": {},
   "outputs": [
    {
     "data": {
      "text/plain": [
       "'5f4dcc3b5aa765d61d8327deb882cf99'"
      ]
     },
     "execution_count": 9,
     "metadata": {},
     "output_type": "execute_result"
    }
   ],
   "source": [
    "# MD5.new() only accepts binary values so by putting a 'b' in front of the string, it converts the string to binary\n",
    "easy_password_hash = MD5.new(b'password')\n",
    "easy_password_hash.hexdigest()"
   ]
  },
  {
   "cell_type": "markdown",
   "id": "2a9cf1f0",
   "metadata": {},
   "source": [
    "### Avalanche effect\n",
    "\n",
    "In cryptography, the avalanche effect is the desirable property of cryptographic algorithms wherein if an input is changed slightly (for example, flipping a single bit), the output changes significantly (e.g., half the output bits flip).\n",
    "\n",
    "This property provides the following benefits:\n",
    "- prevent people from making predictions about the input, being given only the output\n",
    "- makes it obvious that the data's integrity is affected even if it is only a 1 bit change.\n",
    "\n"
   ]
  },
  {
   "cell_type": "code",
   "execution_count": null,
   "id": "c38aff97",
   "metadata": {
    "scrolled": true
   },
   "outputs": [],
   "source": [
    "print('The MD5 hash of \\'{}\\' is {}'.format('password', MD5.new(b'password').hexdigest()))\n",
    "print('The MD5 hash of \\'{}\\' is {}'.format('passwore', MD5.new(b'passwore').hexdigest()))\n",
    "\n",
    "for i in range(10):\n",
    "    plaintext_password = 'password{}'.format(i)\n",
    "    print('The MD5 hash of \\'{}\\' is {}'.format(plaintext_password, MD5.new(plaintext_password.encode('ascii')).hexdigest()))"
   ]
  },
  {
   "cell_type": "markdown",
   "id": "4aff4382",
   "metadata": {},
   "source": [
    "### Reverse lookup hashes\n",
    "Try searching for '5f4dcc3b5aa765d61d8327deb882cf99' in the internet. Are you able to find the original text from the hash?\n",
    "\n",
    "Rainbow table attacks makes use of precomputed hashes tables to quickly identify your password from hashes.\n",
    "\n",
    "To circumvent such attacks, add salt before hashing to significantly increase the size of the precomputed hash table needed to do reverse lookup of hashes. The longer the salt length, the larger the required precomputed hash table"
   ]
  },
  {
   "cell_type": "markdown",
   "id": "c6032482",
   "metadata": {},
   "source": [
    "### Salt generation\n",
    "\n",
    "Salt are additional characters that are randomly generated and added to the back of the original string before hashing to make dictionary attacks harder to execute (as the dictionary of known passwords would have to be multiple times bigger than dictionaries for unsalted password)"
   ]
  },
  {
   "cell_type": "markdown",
   "id": "e20d3bc5",
   "metadata": {},
   "source": [
    "## Exercise\n",
    "\n",
    "1. Write a function that returns a random string based on given character set and length, or if arguments were not provided, to use the following defaults\n",
    "\n",
    "```\n",
    "   char_set = \"0123456789abcdefghijklmnopqrstuvwxyzABCDEFGHIJKLMNOPQRSTUVWXYZ\"\n",
    "```"
   ]
  },
  {
   "cell_type": "code",
   "execution_count": 4,
   "id": "f9d57d7e",
   "metadata": {},
   "outputs": [],
   "source": [
    "import random\n",
    "\n",
    "def generate_salt(char_set: str = None, length: int = 16)-> str:\n",
    "    \"\"\"Generates a random string of alphanumeric characters as salt\n",
    "    \n",
    "    Args:\n",
    "        char_set: string containing the characters used for salt generation\n",
    "        length: the length of salt required\n",
    "    Return:\n",
    "        randomly generated salt based on char_set and length\n",
    "    \n",
    "    \"\"\"\n",
    "    ##################\n",
    "    # YOUR CODE HERE #\n",
    "    ##################\n",
    "    \n",
    "    if char_set is None:\n",
    "        char_set = \"<fill in the default character set here>\" # <-fill in the default character set here\n",
    "    \n",
    "    chars=[]\n",
    "    for i in range(length):\n",
    "        chars.append(random.choice(char_set))\n",
    "\n",
    "    return \"\".join(chars)\n"
   ]
  },
  {
   "cell_type": "markdown",
   "id": "83d98d65",
   "metadata": {},
   "source": [
    "``` \n",
    "2. Generate and print the salt using the function above\n",
    "```"
   ]
  },
  {
   "cell_type": "code",
   "execution_count": 5,
   "id": "577882b8",
   "metadata": {
    "scrolled": true
   },
   "outputs": [
    {
     "name": "stdout",
     "output_type": "stream",
     "text": [
      "rtft u ehs  rf h\n"
     ]
    }
   ],
   "source": [
    "##################\n",
    "# YOUR CODE HERE #\n",
    "##################\n",
    "salt = generate_salt()\n",
    "print(salt)"
   ]
  },
  {
   "cell_type": "markdown",
   "id": "799cef3b",
   "metadata": {},
   "source": [
    "```\n",
    "3. Generate a salt that will contain only the letters \"ABCDEF\"\n",
    "```"
   ]
  },
  {
   "cell_type": "code",
   "execution_count": 7,
   "id": "0809f5d0",
   "metadata": {},
   "outputs": [
    {
     "name": "stdout",
     "output_type": "stream",
     "text": [
      "ECBFFDECBBECCBAA\n"
     ]
    }
   ],
   "source": [
    "##################\n",
    "# YOUR CODE HERE #\n",
    "##################\n",
    "salt = generate_salt(\"ABCDEF\")\n",
    "print(salt)"
   ]
  },
  {
   "cell_type": "markdown",
   "id": "877529a1",
   "metadata": {},
   "source": [
    "```\n",
    "4. Hash 'password123' using MD5\n",
    "```"
   ]
  },
  {
   "cell_type": "code",
   "execution_count": 15,
   "id": "9fc6b0db",
   "metadata": {},
   "outputs": [
    {
     "data": {
      "text/plain": [
       "'482c811da5d5b4bc6d497ffa98491e38'"
      ]
     },
     "execution_count": 15,
     "metadata": {},
     "output_type": "execute_result"
    }
   ],
   "source": [
    "##################\n",
    "# YOUR CODE HERE #\n",
    "##################\n",
    "hashed_data = MD5.new(b'password123')\n",
    "hashed_data.hexdigest()"
   ]
  },
  {
   "cell_type": "markdown",
   "id": "9b107293",
   "metadata": {},
   "source": [
    "With the retrieved value from the hash, go to https://md5.gromweb.com/ and try to reverse the hash.\n",
    "\n",
    "Using the SALT that you have randomly generated, update the hashing to include the SALT."
   ]
  },
  {
   "cell_type": "code",
   "execution_count": 16,
   "id": "be6b59df",
   "metadata": {},
   "outputs": [
    {
     "data": {
      "text/plain": [
       "'ef6ffd9f76b0fecf19f21d65bded8420'"
      ]
     },
     "execution_count": 16,
     "metadata": {},
     "output_type": "execute_result"
    }
   ],
   "source": [
    "# append salt to the original easy password\n",
    "hashed_data.update(salt.encode('ascii'))\n",
    "hashed_data.hexdigest()"
   ]
  },
  {
   "cell_type": "markdown",
   "id": "a9bdaa5e",
   "metadata": {},
   "source": [
    "With the newly retrieved value from the hash, you can try to reverse the hash again at https://md5.gromweb.com/\n",
    "\n",
    "It is very likely that you cannot reverse the hash after applying SALT.\n",
    "\n",
    "```So remember to add SALT to your hashes!```"
   ]
  },
  {
   "cell_type": "markdown",
   "id": "43841f55",
   "metadata": {},
   "source": [
    "## End of Exercise"
   ]
  }
 ],
 "metadata": {
  "kernelspec": {
   "display_name": "Python 3",
   "language": "python",
   "name": "python3"
  },
  "language_info": {
   "codemirror_mode": {
    "name": "ipython",
    "version": 3
   },
   "file_extension": ".py",
   "mimetype": "text/x-python",
   "name": "python",
   "nbconvert_exporter": "python",
   "pygments_lexer": "ipython3",
   "version": "3.8.8"
  }
 },
 "nbformat": 4,
 "nbformat_minor": 5
}

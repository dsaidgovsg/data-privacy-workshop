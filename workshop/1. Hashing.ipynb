{
 "cells": [
  {
   "cell_type": "markdown",
   "id": "c93fce61",
   "metadata": {},
   "source": [
    "# Data Privacy Technique - Hashing\n",
    "\n",
    "- cryptographic package: https://www.pycryptodome.org/en/latest/src/hash/hash.html\n",
    "- reverse lookup MD5 hash: https://md5.gromweb.com/"
   ]
  },
  {
   "cell_type": "code",
   "execution_count": null,
   "id": "bf07d419",
   "metadata": {},
   "outputs": [],
   "source": [
    "from Crypto.Hash import MD5"
   ]
  },
  {
   "cell_type": "code",
   "execution_count": null,
   "id": "870f8af5",
   "metadata": {},
   "outputs": [],
   "source": [
    "# MD5.new() only accepts binary values so by putting a 'b' in front of the string, it converts the string to binary\n",
    "easy_password_hash = MD5.new(b'password')\n",
    "easy_password_hash.hexdigest()"
   ]
  },
  {
   "cell_type": "markdown",
   "id": "d2535c7c",
   "metadata": {},
   "source": [
    "### Avalanche effect\n",
    "\n",
    "In cryptography, the avalanche effect is the desirable property of cryptographic algorithms wherein if an input is changed slightly (for example, flipping a single bit), the output changes significantly (e.g., half the output bits flip).\n",
    "\n",
    "This property provides the following benefits:\n",
    "- prevent people from making predictions about the input, being given only the output\n",
    "- makes it obvious that the data's integrity is affected even if it is only a 1 bit change.\n",
    "\n"
   ]
  },
  {
   "cell_type": "code",
   "execution_count": null,
   "id": "19c7a965",
   "metadata": {
    "scrolled": true
   },
   "outputs": [],
   "source": [
    "print('The MD5 hash of \\'{}\\' is {}'.format('password', MD5.new(b'password').hexdigest()))\n",
    "print('The MD5 hash of \\'{}\\' is {}'.format('passwore', MD5.new(b'passwore').hexdigest()))\n",
    "\n",
    "for i in range(10):\n",
    "    plaintext_password = 'password{}'.format(i)\n",
    "    print('The MD5 hash of \\'{}\\' is {}'.format(plaintext_password, MD5.new(plaintext_password.encode('ascii')).hexdigest()))"
   ]
  },
  {
   "cell_type": "markdown",
   "id": "30cf6868",
   "metadata": {},
   "source": [
    "### Reverse lookup hashes\n",
    "Try searching for '5f4dcc3b5aa765d61d8327deb882cf99' in the internet. Are you able to find the original text from the hash?\n",
    "\n",
    "Rainbow table attacks makes use of precomputed hashes tables to quickly identify your password from hashes.\n",
    "\n",
    "To circumvent such attacks, add salt before hashing to significantly increase the size of the precomputed hash table needed to do reverse lookup of hashes. The longer the salt length, the larger the required precomputed hash table"
   ]
  },
  {
   "cell_type": "markdown",
   "id": "70d04f66",
   "metadata": {},
   "source": [
    "### Salt generation\n",
    "\n",
    "Salt are additional characters that are randomly generated and added to the back of the original string before hashing to make dictionary attacks harder to execute (as the dictionary of known passwords would have to be multiple times bigger than dictionaries for unsalted password)"
   ]
  },
  {
   "cell_type": "markdown",
   "id": "6992c284",
   "metadata": {},
   "source": [
    "## Exercise\n",
    "\n",
    "1. Write a function that returns a random string based on given character set and length, or if arguments were not provided, to use the following defaults\n",
    "\n",
    "```\n",
    "   char_set = \"0123456789abcdefghijklmnopqrstuvwxyzABCDEFGHIJKLMNOPQRSTUVWXYZ\"\n",
    "```"
   ]
  },
  {
   "cell_type": "code",
   "execution_count": null,
   "id": "1db4ca1e",
   "metadata": {},
   "outputs": [],
   "source": [
    "import random\n",
    "\n",
    "def generate_salt(char_set: str = None, length: int = 16)-> str:\n",
    "    \"\"\"Generates a random string of alphanumeric characters as salt\n",
    "    \n",
    "    Args:\n",
    "        char_set: string containing the characters used for salt generation\n",
    "        length: the length of salt required\n",
    "    Return:\n",
    "        randomly generated salt based on char_set and length\n",
    "    \n",
    "    \"\"\"\n",
    "    ##################\n",
    "    # YOUR CODE HERE #\n",
    "    ##################\n",
    "    \n",
    "    if char_set is None:\n",
    "        char_set = \"<fill in the default character set here>\" # fill in the default character set here\n",
    "    \n",
    "    chars=[]\n",
    "    for i in range(length):\n",
    "        chars.append(random.choice(char_set))\n",
    "\n",
    "    return \"\".join(chars)\n"
   ]
  },
  {
   "cell_type": "markdown",
   "id": "2af3c4a7",
   "metadata": {},
   "source": [
    "``` \n",
    "2. Generate and print the salt using the function above\n",
    "```"
   ]
  },
  {
   "cell_type": "code",
   "execution_count": null,
   "id": "9d677be7",
   "metadata": {
    "scrolled": true
   },
   "outputs": [],
   "source": [
    "##################\n",
    "# YOUR CODE HERE #\n",
    "##################\n",
    "salt = ###### update code here\n",
    "print(salt)"
   ]
  },
  {
   "cell_type": "markdown",
   "id": "0658bebd",
   "metadata": {},
   "source": [
    "```\n",
    "3. Generate a salt that will contain only the letters \"ABCDEF\"\n",
    "```"
   ]
  },
  {
   "cell_type": "code",
   "execution_count": null,
   "id": "7ef6cf1c",
   "metadata": {},
   "outputs": [],
   "source": [
    "##################\n",
    "# YOUR CODE HERE #\n",
    "##################\n",
    "salt = ###### update code here\n",
    "print(salt)"
   ]
  },
  {
   "cell_type": "markdown",
   "id": "4f406c57",
   "metadata": {},
   "source": [
    "```\n",
    "4. Hash 'password123' using MD5\n",
    "```"
   ]
  },
  {
   "cell_type": "code",
   "execution_count": null,
   "id": "1ab7b563",
   "metadata": {},
   "outputs": [],
   "source": [
    "##################\n",
    "# YOUR CODE HERE #\n",
    "##################\n",
    "hashed_data = MD5.new(b'<fill in text>') # fill in text\n",
    "hashed_data.hexdigest()"
   ]
  },
  {
   "cell_type": "markdown",
   "id": "ea360e62",
   "metadata": {},
   "source": [
    "With the retrieved value from the hash, go to https://md5.gromweb.com/ and try to reverse the hash.\n",
    "\n",
    "Using the SALT that you have randomly generated, update the hashing to include the SALT."
   ]
  },
  {
   "cell_type": "code",
   "execution_count": null,
   "id": "4475ad9e",
   "metadata": {},
   "outputs": [],
   "source": [
    "# append salt to the original easy password\n",
    "hashed_data.update(salt.encode('ascii'))\n",
    "hashed_data.hexdigest()"
   ]
  },
  {
   "cell_type": "markdown",
   "id": "704678c3",
   "metadata": {},
   "source": [
    "With the newly retrieved value from the hash, you can try to reverse the hash again at https://md5.gromweb.com/\n",
    "\n",
    "It is very likely that you cannot reverse the hash after applying SALT.\n",
    "\n",
    "```So remember to add SALT to your hashes!```"
   ]
  },
  {
   "cell_type": "markdown",
   "id": "39d55a1b",
   "metadata": {},
   "source": [
    "## End of Exercise"
   ]
  }
 ],
 "metadata": {
  "kernelspec": {
   "display_name": "Python 3",
   "language": "python",
   "name": "python3"
  },
  "language_info": {
   "codemirror_mode": {
    "name": "ipython",
    "version": 3
   },
   "file_extension": ".py",
   "mimetype": "text/x-python",
   "name": "python",
   "nbconvert_exporter": "python",
   "pygments_lexer": "ipython3",
   "version": "3.8.8"
  }
 },
 "nbformat": 4,
 "nbformat_minor": 5
}

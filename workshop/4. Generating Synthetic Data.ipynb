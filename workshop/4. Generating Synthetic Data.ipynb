{
 "cells": [
  {
   "cell_type": "markdown",
   "id": "9be5fb49",
   "metadata": {},
   "source": [
    "### Synthyetic Data Generation\n",
    "#### Generate data points for linear regression"
   ]
  },
  {
   "cell_type": "code",
   "execution_count": 9,
   "id": "2eda1339",
   "metadata": {},
   "outputs": [],
   "source": [
    "from sklearn import datasets\n",
    "import matplotlib.pyplot as plt\n",
    "import numpy as np"
   ]
  },
  {
   "cell_type": "markdown",
   "id": "f756a1e3",
   "metadata": {},
   "source": [
    "##### Add noise to the regression"
   ]
  },
  {
   "cell_type": "code",
   "execution_count": 11,
   "id": "a3708276",
   "metadata": {},
   "outputs": [
    {
     "data": {
      "text/plain": [
       "[<matplotlib.lines.Line2D at 0x12d6f4550>]"
      ]
     },
     "execution_count": 11,
     "metadata": {},
     "output_type": "execute_result"
    },
    {
     "data": {
      "image/png": "[encoded data removed]",
      "text/plain": [
       "<Figure size 432x288 with 1 Axes>"
      ]
     },
     "metadata": {
      "needs_background": "light"
     },
     "output_type": "display_data"
    }
   ],
   "source": [
    "# generate regression dataset\n",
    "inputs, outputs = datasets.make_regression(n_features=1, noise=15.0)\n",
    "\n",
    "# reshape the x value from 2D array to 1D array\n",
    "input_x = np.concatenate(inputs, axis=0)\n",
    "\n",
    "# get gradient and coefficients\n",
    "m,b = np.polyfit(input_x, outputs, 1)\n",
    "\n",
    "# scatter plot\n",
    "plt.plot(input_x, outputs, 'o')\n",
    "\n",
    "# plot regression line\n",
    "plt.plot(input_x, np.array(input_x) *m + b)"
   ]
  },
  {
   "cell_type": "markdown",
   "id": "62159e6b",
   "metadata": {},
   "source": [
    "### Generate pandas datafreame of customers (categorical/attribute) data\n",
    "\n",
    "- Note 1: when doing package installation, do downgrade faker package `pip install Faker==2.0.5` if not you will get an error as described in https://github.com/tirthajyoti/pydbgen/issues/16\n",
    "- Note 2: if you encounter `SSL: CERTIFICATE_VERIFY_FAILED error` do follow instructions here to fix \n",
    "\n",
    "`If you're using macOS go to Macintosh HD > Applications > Python3.6 folder (or whatever version of python you're using) > double click on \"Install Certificates.command\" file.`"
   ]
  },
  {
   "cell_type": "code",
   "execution_count": 16,
   "id": "536c173f",
   "metadata": {},
   "outputs": [],
   "source": [
    "import pydbgen\n",
    "# source: https://github.com/tirthajyoti/pydbgen\n",
    "from pydbgen import pydbgen\n",
    "# initiate a  pydb object\n",
    "myDB = pydbgen.pydb()"
   ]
  },
  {
   "cell_type": "code",
   "execution_count": 15,
   "id": "19427976",
   "metadata": {},
   "outputs": [
    {
     "data": {
      "text/html": [
       "<div>\n",
       "<style scoped>\n",
       "    .dataframe tbody tr th:only-of-type {\n",
       "        vertical-align: middle;\n",
       "    }\n",
       "\n",
       "    .dataframe tbody tr th {\n",
       "        vertical-align: top;\n",
       "    }\n",
       "\n",
       "    .dataframe thead th {\n",
       "        text-align: right;\n",
       "    }\n",
       "</style>\n",
       "<table border=\"1\" class=\"dataframe\">\n",
       "  <thead>\n",
       "    <tr style=\"text-align: right;\">\n",
       "      <th></th>\n",
       "      <th>ssn</th>\n",
       "      <th>name</th>\n",
       "      <th>phone-number</th>\n",
       "      <th>date</th>\n",
       "    </tr>\n",
       "  </thead>\n",
       "  <tbody>\n",
       "    <tr>\n",
       "      <th>0</th>\n",
       "      <td>077-62-4492</td>\n",
       "      <td>Michael Gamble</td>\n",
       "      <td>856-042-6656</td>\n",
       "      <td>2015-10-23</td>\n",
       "    </tr>\n",
       "    <tr>\n",
       "      <th>1</th>\n",
       "      <td>768-81-2636</td>\n",
       "      <td>Theresa Pittman</td>\n",
       "      <td>166-469-8585</td>\n",
       "      <td>1984-01-15</td>\n",
       "    </tr>\n",
       "    <tr>\n",
       "      <th>2</th>\n",
       "      <td>784-85-2695</td>\n",
       "      <td>Juan Wright</td>\n",
       "      <td>379-669-7180</td>\n",
       "      <td>2001-11-06</td>\n",
       "    </tr>\n",
       "    <tr>\n",
       "      <th>3</th>\n",
       "      <td>042-77-2818</td>\n",
       "      <td>Deborah Petersen</td>\n",
       "      <td>584-411-0272</td>\n",
       "      <td>1983-11-11</td>\n",
       "    </tr>\n",
       "    <tr>\n",
       "      <th>4</th>\n",
       "      <td>391-96-1861</td>\n",
       "      <td>Andrew Brown</td>\n",
       "      <td>459-899-6803</td>\n",
       "      <td>1996-10-22</td>\n",
       "    </tr>\n",
       "  </tbody>\n",
       "</table>\n",
       "</div>"
      ],
      "text/plain": [
       "           ssn              name  phone-number        date\n",
       "0  077-62-4492    Michael Gamble  856-042-6656  2015-10-23\n",
       "1  768-81-2636   Theresa Pittman  166-469-8585  1984-01-15\n",
       "2  784-85-2695       Juan Wright  379-669-7180  2001-11-06\n",
       "3  042-77-2818  Deborah Petersen  584-411-0272  1983-11-11\n",
       "4  391-96-1861      Andrew Brown  459-899-6803  1996-10-22"
      ]
     },
     "execution_count": 15,
     "metadata": {},
     "output_type": "execute_result"
    }
   ],
   "source": [
    "synth_df = myDB.gen_dataframe(100, ['ssn', 'name', 'phone', 'date'])\n",
    "synth_df.head()"
   ]
  }
 ],
 "metadata": {
  "kernelspec": {
   "display_name": "Python 3",
   "language": "python",
   "name": "python3"
  },
  "language_info": {
   "codemirror_mode": {
    "name": "ipython",
    "version": 3
   },
   "file_extension": ".py",
   "mimetype": "text/x-python",
   "name": "python",
   "nbconvert_exporter": "python",
   "pygments_lexer": "ipython3",
   "version": "3.8.8"
  }
 },
 "nbformat": 4,
 "nbformat_minor": 5
}

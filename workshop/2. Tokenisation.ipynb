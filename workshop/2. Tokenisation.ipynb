{
 "cells": [
  {
   "cell_type": "markdown",
   "id": "c93fce61",
   "metadata": {},
   "source": [
    "# Data Privacy Technique - Tokenization\n"
   ]
  },
  {
   "cell_type": "code",
   "execution_count": null,
   "id": "a91671cf",
   "metadata": {},
   "outputs": [],
   "source": [
    "# create functions for generating and storing tokens\n",
    "import random\n",
    "\n",
    "class TokenDict:\n",
    "    \"\"\"Class for storing randomly generated tokens\n",
    "    \n",
    "        Typical usage example:\n",
    "            token_dict = TokenDict()\n",
    "    \n",
    "    \"\"\"\n",
    "    def __init__(self):\n",
    "        # protected attributes \n",
    "        self.__token_dict = {}\n",
    "        \n",
    "    def generate_token(self) -> str:\n",
    "        NUMBERS = \"0123456789\"\n",
    "        chars=[]\n",
    "        for i in range(16):\n",
    "            chars.append(random.choice(NUMBERS))\n",
    "\n",
    "        token = \"\".join(chars)\n",
    "        return token\n",
    "\n",
    "    def tokenize_value(self, real_value:str) -> str:\n",
    "        if self.retrieve_token(real_value) is not None:\n",
    "            raise ValueError('value is already in token dictionary')\n",
    "        token=self.generate_token()\n",
    "        while token in self.__token_dict.keys() or token==real_value:\n",
    "            token = self.generate_token()\n",
    "        self.__token_dict[token]=real_value\n",
    "        return token\n",
    "    \n",
    "    def retrieve_value(self, token:str) -> str:\n",
    "        return self.__token_dict[token]\n",
    "    \n",
    "    def retrieve_token(self, real_value:str) -> str:\n",
    "        for k,v in self.__token_dict.items():\n",
    "            if v == real_value:\n",
    "                return k\n",
    "        return None\n",
    "\n"
   ]
  },
  {
   "cell_type": "markdown",
   "id": "e20f5ba2",
   "metadata": {},
   "source": [
    "### Initialise token dictionary class and enter values into the dictionary"
   ]
  },
  {
   "cell_type": "code",
   "execution_count": 38,
   "id": "bec70f20",
   "metadata": {},
   "outputs": [
    {
     "name": "stdout",
     "output_type": "stream",
     "text": [
      "First Token: 4027967191701886\n",
      "Second Token: 2978619387776168\n"
     ]
    }
   ],
   "source": [
    "token_dict_1 = TokenDict()\n",
    "\n",
    "token_1 = token_dict_1.tokenize_value('1234567812345678')\n",
    "print('First Token: {}'.format(token_1))\n",
    "token_2 = token_dict_1.tokenize_value('8888888888888880')\n",
    "print('Second Token: {}'.format(token_2))\n"
   ]
  },
  {
   "cell_type": "markdown",
   "id": "99ad3c9a",
   "metadata": {},
   "source": [
    "### Retrieve token from value and vice versa"
   ]
  },
  {
   "cell_type": "code",
   "execution_count": 39,
   "id": "ba8b5519",
   "metadata": {
    "scrolled": true
   },
   "outputs": [
    {
     "name": "stdout",
     "output_type": "stream",
     "text": [
      "Retrieve second value from second token: 8888888888888880\n",
      "Retrieve first token from first value: 4027967191701886\n"
     ]
    }
   ],
   "source": [
    "print('Retrieve second value from second token: {}'.format(token_dict_1.retrieve_value(token_2)))\n",
    "\n",
    "print('Retrieve first token from first value: {}'.format(token_dict_1.retrieve_token('1234567812345678')))"
   ]
  },
  {
   "cell_type": "markdown",
   "id": "e31e2839",
   "metadata": {},
   "source": [
    "### Try to extract dictionary from token dictionary class"
   ]
  },
  {
   "cell_type": "code",
   "execution_count": 40,
   "id": "55edc312",
   "metadata": {},
   "outputs": [
    {
     "name": "stdout",
     "output_type": "stream",
     "text": [
      "Attribute Error: 'TokenDict' object has no attribute '__token_dict'\n"
     ]
    }
   ],
   "source": [
    "# prefix attribute with __ to protect it from access outside of the class\n",
    "\n",
    "try:\n",
    "    new_dict = token_dict_1.__token_dict\n",
    "except AttributeError as e:\n",
    "    print('Attribute Error: {}'.format(str(e)))"
   ]
  },
  {
   "cell_type": "code",
   "execution_count": null,
   "id": "9cc2bd49",
   "metadata": {},
   "outputs": [],
   "source": []
  }
 ],
 "metadata": {
  "kernelspec": {
   "display_name": "Python 3",
   "language": "python",
   "name": "python3"
  },
  "language_info": {
   "codemirror_mode": {
    "name": "ipython",
    "version": 3
   },
   "file_extension": ".py",
   "mimetype": "text/x-python",
   "name": "python",
   "nbconvert_exporter": "python",
   "pygments_lexer": "ipython3",
   "version": "3.8.8"
  }
 },
 "nbformat": 4,
 "nbformat_minor": 5
}
